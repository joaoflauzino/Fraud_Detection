{
  "nbformat": 4,
  "nbformat_minor": 0,
  "metadata": {
    "colab": {
      "name": "HandsOn.ipynb",
      "provenance": [],
      "authorship_tag": "ABX9TyP14YwGD7CXjLsoAcGJAST7",
      "include_colab_link": true
    },
    "kernelspec": {
      "name": "python3",
      "display_name": "Python 3"
    }
  },
  "cells": [
    {
      "cell_type": "markdown",
      "metadata": {
        "id": "view-in-github",
        "colab_type": "text"
      },
      "source": [
        "<a href=\"https://colab.research.google.com/github/joaoflauzino/fraud_detection/blob/main/HandsOn.ipynb\" target=\"_parent\"><img src=\"https://colab.research.google.com/assets/colab-badge.svg\" alt=\"Open In Colab\"/></a>"
      ]
    },
    {
      "cell_type": "code",
      "metadata": {
        "colab": {
          "base_uri": "https://localhost:8080/"
        },
        "id": "LS1eXy8H3BVo",
        "outputId": "6dcd16e6-d3c4-48ef-b126-474c02d83db3"
      },
      "source": [
        "import pandas as pd \n",
        "from google.colab import files\n",
        "from google.colab import drive\n",
        "from sklearn.model_selection import train_test_split \n",
        "from sklearn.linear_model import LogisticRegression\n",
        "from sklearn.tree import DecisionTreeClassifier\n",
        "from sklearn import preprocessing\n",
        "from sklearn.metrics import accuracy_score\n",
        "from sklearn.metrics import roc_auc_score\n",
        "from sklearn.metrics import precision_score\n",
        "from sklearn.metrics import recall_score\n",
        "from sklearn.metrics import f1_score\n",
        "import numpy as np \n",
        "import seaborn as sns \n",
        "from imblearn.over_sampling import SMOTE \n",
        "from sklearn.metrics import confusion_matrix"
      ],
      "execution_count": null,
      "outputs": [
        {
          "output_type": "stream",
          "text": [
            "/usr/local/lib/python3.6/dist-packages/sklearn/externals/six.py:31: FutureWarning: The module is deprecated in version 0.21 and will be removed in version 0.23 since we've dropped support for Python 2.7. Please rely on the official version of six (https://pypi.org/project/six/).\n",
            "  \"(https://pypi.org/project/six/).\", FutureWarning)\n",
            "/usr/local/lib/python3.6/dist-packages/sklearn/utils/deprecation.py:144: FutureWarning: The sklearn.neighbors.base module is  deprecated in version 0.22 and will be removed in version 0.24. The corresponding classes / functions should instead be imported from sklearn.neighbors. Anything that cannot be imported from sklearn.neighbors is now part of the private API.\n",
            "  warnings.warn(message, FutureWarning)\n"
          ],
          "name": "stderr"
        }
      ]
    },
    {
      "cell_type": "markdown",
      "metadata": {
        "id": "JI_yZNKv48Rk"
      },
      "source": [
        "# Problema\n",
        "\n",
        "* Cenário de transações bancárias\n",
        "* Muitos eventos de fraudes ocorrendo sem ação rápida para trativas\n",
        "\n",
        "# Objetivo\n",
        "\n",
        "* Ensinar a máquina para identificar fraude sem a necessidade de intervenção humana"
      ]
    },
    {
      "cell_type": "markdown",
      "metadata": {
        "id": "lSI9xAW35hHY"
      },
      "source": [
        "# Leitura da base"
      ]
    },
    {
      "cell_type": "code",
      "metadata": {
        "colab": {
          "base_uri": "https://localhost:8080/"
        },
        "id": "IsYOiUyc5fpc",
        "outputId": "405ec8af-9aa3-4acf-d422-770c328e539b"
      },
      "source": [
        "drive.mount('/content/drive')"
      ],
      "execution_count": null,
      "outputs": [
        {
          "output_type": "stream",
          "text": [
            "Mounted at /content/drive\n"
          ],
          "name": "stdout"
        }
      ]
    },
    {
      "cell_type": "code",
      "metadata": {
        "id": "s5pg_8ua5wQv"
      },
      "source": [
        "df = pd.read_csv('/content/drive/My Drive/datasets/FraudDetection.csv')"
      ],
      "execution_count": null,
      "outputs": []
    },
    {
      "cell_type": "code",
      "metadata": {
        "colab": {
          "base_uri": "https://localhost:8080/",
          "height": 195
        },
        "id": "rZNtAL9L6DZG",
        "outputId": "32158184-5739-4e63-d743-aeaa4e9041e6"
      },
      "source": [
        "df.head(5)"
      ],
      "execution_count": null,
      "outputs": [
        {
          "output_type": "execute_result",
          "data": {
            "text/html": [
              "<div>\n",
              "<style scoped>\n",
              "    .dataframe tbody tr th:only-of-type {\n",
              "        vertical-align: middle;\n",
              "    }\n",
              "\n",
              "    .dataframe tbody tr th {\n",
              "        vertical-align: top;\n",
              "    }\n",
              "\n",
              "    .dataframe thead th {\n",
              "        text-align: right;\n",
              "    }\n",
              "</style>\n",
              "<table border=\"1\" class=\"dataframe\">\n",
              "  <thead>\n",
              "    <tr style=\"text-align: right;\">\n",
              "      <th></th>\n",
              "      <th>step</th>\n",
              "      <th>type</th>\n",
              "      <th>amount</th>\n",
              "      <th>nameOrig</th>\n",
              "      <th>oldbalanceOrg</th>\n",
              "      <th>newbalanceOrig</th>\n",
              "      <th>nameDest</th>\n",
              "      <th>oldbalanceDest</th>\n",
              "      <th>newbalanceDest</th>\n",
              "      <th>isFraud</th>\n",
              "      <th>isFlaggedFraud</th>\n",
              "    </tr>\n",
              "  </thead>\n",
              "  <tbody>\n",
              "    <tr>\n",
              "      <th>0</th>\n",
              "      <td>1</td>\n",
              "      <td>PAYMENT</td>\n",
              "      <td>9839.64</td>\n",
              "      <td>C1231006815</td>\n",
              "      <td>170136.0</td>\n",
              "      <td>160296.36</td>\n",
              "      <td>M1979787155</td>\n",
              "      <td>0.0</td>\n",
              "      <td>0.0</td>\n",
              "      <td>0</td>\n",
              "      <td>0</td>\n",
              "    </tr>\n",
              "    <tr>\n",
              "      <th>1</th>\n",
              "      <td>1</td>\n",
              "      <td>PAYMENT</td>\n",
              "      <td>1864.28</td>\n",
              "      <td>C1666544295</td>\n",
              "      <td>21249.0</td>\n",
              "      <td>19384.72</td>\n",
              "      <td>M2044282225</td>\n",
              "      <td>0.0</td>\n",
              "      <td>0.0</td>\n",
              "      <td>0</td>\n",
              "      <td>0</td>\n",
              "    </tr>\n",
              "    <tr>\n",
              "      <th>2</th>\n",
              "      <td>1</td>\n",
              "      <td>TRANSFER</td>\n",
              "      <td>181.00</td>\n",
              "      <td>C1305486145</td>\n",
              "      <td>181.0</td>\n",
              "      <td>0.00</td>\n",
              "      <td>C553264065</td>\n",
              "      <td>0.0</td>\n",
              "      <td>0.0</td>\n",
              "      <td>1</td>\n",
              "      <td>0</td>\n",
              "    </tr>\n",
              "    <tr>\n",
              "      <th>3</th>\n",
              "      <td>1</td>\n",
              "      <td>CASH_OUT</td>\n",
              "      <td>181.00</td>\n",
              "      <td>C840083671</td>\n",
              "      <td>181.0</td>\n",
              "      <td>0.00</td>\n",
              "      <td>C38997010</td>\n",
              "      <td>21182.0</td>\n",
              "      <td>0.0</td>\n",
              "      <td>1</td>\n",
              "      <td>0</td>\n",
              "    </tr>\n",
              "    <tr>\n",
              "      <th>4</th>\n",
              "      <td>1</td>\n",
              "      <td>PAYMENT</td>\n",
              "      <td>11668.14</td>\n",
              "      <td>C2048537720</td>\n",
              "      <td>41554.0</td>\n",
              "      <td>29885.86</td>\n",
              "      <td>M1230701703</td>\n",
              "      <td>0.0</td>\n",
              "      <td>0.0</td>\n",
              "      <td>0</td>\n",
              "      <td>0</td>\n",
              "    </tr>\n",
              "  </tbody>\n",
              "</table>\n",
              "</div>"
            ],
            "text/plain": [
              "   step      type    amount  ... newbalanceDest  isFraud  isFlaggedFraud\n",
              "0     1   PAYMENT   9839.64  ...            0.0        0               0\n",
              "1     1   PAYMENT   1864.28  ...            0.0        0               0\n",
              "2     1  TRANSFER    181.00  ...            0.0        1               0\n",
              "3     1  CASH_OUT    181.00  ...            0.0        1               0\n",
              "4     1   PAYMENT  11668.14  ...            0.0        0               0\n",
              "\n",
              "[5 rows x 11 columns]"
            ]
          },
          "metadata": {
            "tags": []
          },
          "execution_count": 5
        }
      ]
    },
    {
      "cell_type": "code",
      "metadata": {
        "colab": {
          "base_uri": "https://localhost:8080/"
        },
        "id": "OJM--hal7dlX",
        "outputId": "86c41dc2-ce60-43d2-fe1d-9e0226091431"
      },
      "source": [
        "df.shape"
      ],
      "execution_count": null,
      "outputs": [
        {
          "output_type": "execute_result",
          "data": {
            "text/plain": [
              "(6362620, 11)"
            ]
          },
          "metadata": {
            "tags": []
          },
          "execution_count": 6
        }
      ]
    },
    {
      "cell_type": "markdown",
      "metadata": {
        "id": "d0Inctbt7tP8"
      },
      "source": [
        "# Exploração"
      ]
    },
    {
      "cell_type": "code",
      "metadata": {
        "id": "Vj2F1CPm7vLi"
      },
      "source": [
        "# Definir numero casas decimais\n",
        "pd.set_option('float_format', '{:.2f}'.format)"
      ],
      "execution_count": null,
      "outputs": []
    },
    {
      "cell_type": "code",
      "metadata": {
        "colab": {
          "base_uri": "https://localhost:8080/",
          "height": 284
        },
        "id": "bq4mQ0r-8EA1",
        "outputId": "aca1d844-858f-4bfa-c6f8-e4cc83c8001c"
      },
      "source": [
        "# Estatisticas básicas\n",
        "df.describe()\n",
        "\n",
        "# 25% dos dados de transações estão abaixo de 13 mil\n",
        "# 50% dos dados estão abaixo de 74 mil\n",
        "# 75% dos dados estão abaixo 208 mil\n",
        "\n",
        "# Média de 179.861 reais em transações\n",
        "# Desvio padrão de 603 mil em transações\n",
        "# Altos indicios de outlier"
      ],
      "execution_count": null,
      "outputs": [
        {
          "output_type": "execute_result",
          "data": {
            "text/html": [
              "<div>\n",
              "<style scoped>\n",
              "    .dataframe tbody tr th:only-of-type {\n",
              "        vertical-align: middle;\n",
              "    }\n",
              "\n",
              "    .dataframe tbody tr th {\n",
              "        vertical-align: top;\n",
              "    }\n",
              "\n",
              "    .dataframe thead th {\n",
              "        text-align: right;\n",
              "    }\n",
              "</style>\n",
              "<table border=\"1\" class=\"dataframe\">\n",
              "  <thead>\n",
              "    <tr style=\"text-align: right;\">\n",
              "      <th></th>\n",
              "      <th>step</th>\n",
              "      <th>amount</th>\n",
              "      <th>oldbalanceOrg</th>\n",
              "      <th>newbalanceOrig</th>\n",
              "      <th>oldbalanceDest</th>\n",
              "      <th>newbalanceDest</th>\n",
              "      <th>isFraud</th>\n",
              "      <th>isFlaggedFraud</th>\n",
              "    </tr>\n",
              "  </thead>\n",
              "  <tbody>\n",
              "    <tr>\n",
              "      <th>count</th>\n",
              "      <td>6362620.00</td>\n",
              "      <td>6362620.00</td>\n",
              "      <td>6362620.00</td>\n",
              "      <td>6362620.00</td>\n",
              "      <td>6362620.00</td>\n",
              "      <td>6362620.00</td>\n",
              "      <td>6362620.00</td>\n",
              "      <td>6362620.00</td>\n",
              "    </tr>\n",
              "    <tr>\n",
              "      <th>mean</th>\n",
              "      <td>243.40</td>\n",
              "      <td>179861.90</td>\n",
              "      <td>833883.10</td>\n",
              "      <td>855113.67</td>\n",
              "      <td>1100701.67</td>\n",
              "      <td>1224996.40</td>\n",
              "      <td>0.00</td>\n",
              "      <td>0.00</td>\n",
              "    </tr>\n",
              "    <tr>\n",
              "      <th>std</th>\n",
              "      <td>142.33</td>\n",
              "      <td>603858.23</td>\n",
              "      <td>2888242.67</td>\n",
              "      <td>2924048.50</td>\n",
              "      <td>3399180.11</td>\n",
              "      <td>3674128.94</td>\n",
              "      <td>0.04</td>\n",
              "      <td>0.00</td>\n",
              "    </tr>\n",
              "    <tr>\n",
              "      <th>min</th>\n",
              "      <td>1.00</td>\n",
              "      <td>0.00</td>\n",
              "      <td>0.00</td>\n",
              "      <td>0.00</td>\n",
              "      <td>0.00</td>\n",
              "      <td>0.00</td>\n",
              "      <td>0.00</td>\n",
              "      <td>0.00</td>\n",
              "    </tr>\n",
              "    <tr>\n",
              "      <th>25%</th>\n",
              "      <td>156.00</td>\n",
              "      <td>13389.57</td>\n",
              "      <td>0.00</td>\n",
              "      <td>0.00</td>\n",
              "      <td>0.00</td>\n",
              "      <td>0.00</td>\n",
              "      <td>0.00</td>\n",
              "      <td>0.00</td>\n",
              "    </tr>\n",
              "    <tr>\n",
              "      <th>50%</th>\n",
              "      <td>239.00</td>\n",
              "      <td>74871.94</td>\n",
              "      <td>14208.00</td>\n",
              "      <td>0.00</td>\n",
              "      <td>132705.66</td>\n",
              "      <td>214661.44</td>\n",
              "      <td>0.00</td>\n",
              "      <td>0.00</td>\n",
              "    </tr>\n",
              "    <tr>\n",
              "      <th>75%</th>\n",
              "      <td>335.00</td>\n",
              "      <td>208721.48</td>\n",
              "      <td>107315.18</td>\n",
              "      <td>144258.41</td>\n",
              "      <td>943036.71</td>\n",
              "      <td>1111909.25</td>\n",
              "      <td>0.00</td>\n",
              "      <td>0.00</td>\n",
              "    </tr>\n",
              "    <tr>\n",
              "      <th>max</th>\n",
              "      <td>743.00</td>\n",
              "      <td>92445516.64</td>\n",
              "      <td>59585040.37</td>\n",
              "      <td>49585040.37</td>\n",
              "      <td>356015889.35</td>\n",
              "      <td>356179278.92</td>\n",
              "      <td>1.00</td>\n",
              "      <td>1.00</td>\n",
              "    </tr>\n",
              "  </tbody>\n",
              "</table>\n",
              "</div>"
            ],
            "text/plain": [
              "            step      amount  ...    isFraud  isFlaggedFraud\n",
              "count 6362620.00  6362620.00  ... 6362620.00      6362620.00\n",
              "mean      243.40   179861.90  ...       0.00            0.00\n",
              "std       142.33   603858.23  ...       0.04            0.00\n",
              "min         1.00        0.00  ...       0.00            0.00\n",
              "25%       156.00    13389.57  ...       0.00            0.00\n",
              "50%       239.00    74871.94  ...       0.00            0.00\n",
              "75%       335.00   208721.48  ...       0.00            0.00\n",
              "max       743.00 92445516.64  ...       1.00            1.00\n",
              "\n",
              "[8 rows x 8 columns]"
            ]
          },
          "metadata": {
            "tags": []
          },
          "execution_count": 8
        }
      ]
    },
    {
      "cell_type": "code",
      "metadata": {
        "colab": {
          "base_uri": "https://localhost:8080/"
        },
        "id": "NFRa8Tq49TZ-",
        "outputId": "e114c1f6-9909-4561-8820-12dcd36fbc46"
      },
      "source": [
        "# Verificar valores nulos\n",
        "df.isnull().sum()"
      ],
      "execution_count": null,
      "outputs": [
        {
          "output_type": "execute_result",
          "data": {
            "text/plain": [
              "step              0\n",
              "type              0\n",
              "amount            0\n",
              "nameOrig          0\n",
              "oldbalanceOrg     0\n",
              "newbalanceOrig    0\n",
              "nameDest          0\n",
              "oldbalanceDest    0\n",
              "newbalanceDest    0\n",
              "isFraud           0\n",
              "isFlaggedFraud    0\n",
              "dtype: int64"
            ]
          },
          "metadata": {
            "tags": []
          },
          "execution_count": 10
        }
      ]
    },
    {
      "cell_type": "code",
      "metadata": {
        "colab": {
          "base_uri": "https://localhost:8080/"
        },
        "id": "Hjui3K1Z-Cq0",
        "outputId": "c64450b1-7497-47d8-b0a3-b668c196241a"
      },
      "source": [
        "# Group by por flag\n",
        "df['isFraud'].value_counts()"
      ],
      "execution_count": null,
      "outputs": [
        {
          "output_type": "execute_result",
          "data": {
            "text/plain": [
              "0    6354407\n",
              "1       8213\n",
              "Name: isFraud, dtype: int64"
            ]
          },
          "metadata": {
            "tags": []
          },
          "execution_count": 12
        }
      ]
    },
    {
      "cell_type": "code",
      "metadata": {
        "id": "oJ2l3drE-sMz"
      },
      "source": [
        "df_new = df.copy()"
      ],
      "execution_count": null,
      "outputs": []
    },
    {
      "cell_type": "code",
      "metadata": {
        "colab": {
          "base_uri": "https://localhost:8080/",
          "height": 195
        },
        "id": "LH0Z8LgA-1by",
        "outputId": "8e5946f3-7fb4-4e42-e1f2-2899151743e3"
      },
      "source": [
        "df_new.head(5)"
      ],
      "execution_count": null,
      "outputs": [
        {
          "output_type": "execute_result",
          "data": {
            "text/html": [
              "<div>\n",
              "<style scoped>\n",
              "    .dataframe tbody tr th:only-of-type {\n",
              "        vertical-align: middle;\n",
              "    }\n",
              "\n",
              "    .dataframe tbody tr th {\n",
              "        vertical-align: top;\n",
              "    }\n",
              "\n",
              "    .dataframe thead th {\n",
              "        text-align: right;\n",
              "    }\n",
              "</style>\n",
              "<table border=\"1\" class=\"dataframe\">\n",
              "  <thead>\n",
              "    <tr style=\"text-align: right;\">\n",
              "      <th></th>\n",
              "      <th>step</th>\n",
              "      <th>type</th>\n",
              "      <th>amount</th>\n",
              "      <th>nameOrig</th>\n",
              "      <th>oldbalanceOrg</th>\n",
              "      <th>newbalanceOrig</th>\n",
              "      <th>nameDest</th>\n",
              "      <th>oldbalanceDest</th>\n",
              "      <th>newbalanceDest</th>\n",
              "      <th>isFraud</th>\n",
              "      <th>isFlaggedFraud</th>\n",
              "    </tr>\n",
              "  </thead>\n",
              "  <tbody>\n",
              "    <tr>\n",
              "      <th>0</th>\n",
              "      <td>1</td>\n",
              "      <td>PAYMENT</td>\n",
              "      <td>9839.64</td>\n",
              "      <td>C1231006815</td>\n",
              "      <td>170136.00</td>\n",
              "      <td>160296.36</td>\n",
              "      <td>M1979787155</td>\n",
              "      <td>0.00</td>\n",
              "      <td>0.00</td>\n",
              "      <td>0</td>\n",
              "      <td>0</td>\n",
              "    </tr>\n",
              "    <tr>\n",
              "      <th>1</th>\n",
              "      <td>1</td>\n",
              "      <td>PAYMENT</td>\n",
              "      <td>1864.28</td>\n",
              "      <td>C1666544295</td>\n",
              "      <td>21249.00</td>\n",
              "      <td>19384.72</td>\n",
              "      <td>M2044282225</td>\n",
              "      <td>0.00</td>\n",
              "      <td>0.00</td>\n",
              "      <td>0</td>\n",
              "      <td>0</td>\n",
              "    </tr>\n",
              "    <tr>\n",
              "      <th>2</th>\n",
              "      <td>1</td>\n",
              "      <td>TRANSFER</td>\n",
              "      <td>181.00</td>\n",
              "      <td>C1305486145</td>\n",
              "      <td>181.00</td>\n",
              "      <td>0.00</td>\n",
              "      <td>C553264065</td>\n",
              "      <td>0.00</td>\n",
              "      <td>0.00</td>\n",
              "      <td>1</td>\n",
              "      <td>0</td>\n",
              "    </tr>\n",
              "    <tr>\n",
              "      <th>3</th>\n",
              "      <td>1</td>\n",
              "      <td>CASH_OUT</td>\n",
              "      <td>181.00</td>\n",
              "      <td>C840083671</td>\n",
              "      <td>181.00</td>\n",
              "      <td>0.00</td>\n",
              "      <td>C38997010</td>\n",
              "      <td>21182.00</td>\n",
              "      <td>0.00</td>\n",
              "      <td>1</td>\n",
              "      <td>0</td>\n",
              "    </tr>\n",
              "    <tr>\n",
              "      <th>4</th>\n",
              "      <td>1</td>\n",
              "      <td>PAYMENT</td>\n",
              "      <td>11668.14</td>\n",
              "      <td>C2048537720</td>\n",
              "      <td>41554.00</td>\n",
              "      <td>29885.86</td>\n",
              "      <td>M1230701703</td>\n",
              "      <td>0.00</td>\n",
              "      <td>0.00</td>\n",
              "      <td>0</td>\n",
              "      <td>0</td>\n",
              "    </tr>\n",
              "  </tbody>\n",
              "</table>\n",
              "</div>"
            ],
            "text/plain": [
              "   step      type   amount  ... newbalanceDest  isFraud  isFlaggedFraud\n",
              "0     1   PAYMENT  9839.64  ...           0.00        0               0\n",
              "1     1   PAYMENT  1864.28  ...           0.00        0               0\n",
              "2     1  TRANSFER   181.00  ...           0.00        1               0\n",
              "3     1  CASH_OUT   181.00  ...           0.00        1               0\n",
              "4     1   PAYMENT 11668.14  ...           0.00        0               0\n",
              "\n",
              "[5 rows x 11 columns]"
            ]
          },
          "metadata": {
            "tags": []
          },
          "execution_count": 14
        }
      ]
    },
    {
      "cell_type": "code",
      "metadata": {
        "colab": {
          "base_uri": "https://localhost:8080/"
        },
        "id": "asBEwL9E-5vt",
        "outputId": "ea7022ac-10d7-4798-b2ca-fda93482eea3"
      },
      "source": [
        "# Em que casos conseguimos identificar fraude? Quando isso acontece?\n",
        "df_new['nameDest'].head()"
      ],
      "execution_count": null,
      "outputs": [
        {
          "output_type": "execute_result",
          "data": {
            "text/plain": [
              "0    M1979787155\n",
              "1    M2044282225\n",
              "2     C553264065\n",
              "3      C38997010\n",
              "4    M1230701703\n",
              "Name: nameDest, dtype: object"
            ]
          },
          "metadata": {
            "tags": []
          },
          "execution_count": 15
        }
      ]
    },
    {
      "cell_type": "code",
      "metadata": {
        "id": "fTzp1RB0_Nzt"
      },
      "source": [
        "df_new['type1'] = ''\n",
        "\n",
        "df_new.loc[ df_new.nameOrig.str.contains('C') & df_new.nameDest.str.contains('C'), \"type1\"] = \"CC\" \n",
        "df_new.loc[ df_new.nameOrig.str.contains('C') & df_new.nameDest.str.contains('M'), \"type1\"] = \"CM\"\n",
        "df_new.loc[ df_new.nameOrig.str.contains('M') & df_new.nameDest.str.contains('C'), \"type1\"] = \"MC\"\n",
        "df_new.loc[ df_new.nameOrig.str.contains('M') & df_new.nameDest.str.contains('M'), \"type1\"] = \"MM\""
      ],
      "execution_count": null,
      "outputs": []
    },
    {
      "cell_type": "code",
      "metadata": {
        "colab": {
          "base_uri": "https://localhost:8080/",
          "height": 299
        },
        "id": "8BtOkmNjAAud",
        "outputId": "713eed4f-1e2a-49cb-dfdf-b148e7ba004a"
      },
      "source": [
        "df_new['type1'].value_counts().plot.bar()"
      ],
      "execution_count": null,
      "outputs": [
        {
          "output_type": "execute_result",
          "data": {
            "text/plain": [
              "<matplotlib.axes._subplots.AxesSubplot at 0x7f9e382b84a8>"
            ]
          },
          "metadata": {
            "tags": []
          },
          "execution_count": 29
        },
        {
          "output_type": "display_data",
          "data": {
            "image/png": "[encoded data removed]",
            "text/plain": [
              "<Figure size 432x288 with 1 Axes>"
            ]
          },
          "metadata": {
            "tags": [],
            "needs_background": "light"
          }
        }
      ]
    },
    {
      "cell_type": "code",
      "metadata": {
        "colab": {
          "base_uri": "https://localhost:8080/",
          "height": 286
        },
        "id": "R5_2vQJBAKff",
        "outputId": "2a97f418-d893-4f5c-b212-f4d3ece14eed"
      },
      "source": [
        "df_new[ df_new['isFraud'] == 1]['type1'].value_counts().plot.bar()"
      ],
      "execution_count": null,
      "outputs": [
        {
          "output_type": "execute_result",
          "data": {
            "text/plain": [
              "<matplotlib.axes._subplots.AxesSubplot at 0x7f9e387c82e8>"
            ]
          },
          "metadata": {
            "tags": []
          },
          "execution_count": 28
        },
        {
          "output_type": "display_data",
          "data": {
            "image/png": "[encoded data removed]",
            "text/plain": [
              "<Figure size 432x288 with 1 Axes>"
            ]
          },
          "metadata": {
            "tags": [],
            "needs_background": "light"
          }
        }
      ]
    },
    {
      "cell_type": "code",
      "metadata": {
        "colab": {
          "base_uri": "https://localhost:8080/",
          "height": 299
        },
        "id": "74HemL3HBQSg",
        "outputId": "6bd18df8-a650-4f60-c633-356caca04235"
      },
      "source": [
        "df_new[ df_new['isFraud'] == 0]['type1'].value_counts().plot.bar()"
      ],
      "execution_count": null,
      "outputs": [
        {
          "output_type": "execute_result",
          "data": {
            "text/plain": [
              "<matplotlib.axes._subplots.AxesSubplot at 0x7f9e382512e8>"
            ]
          },
          "metadata": {
            "tags": []
          },
          "execution_count": 31
        },
        {
          "output_type": "display_data",
          "data": {
            "image/png": "[encoded data removed]",
            "text/plain": [
              "<Figure size 432x288 with 1 Axes>"
            ]
          },
          "metadata": {
            "tags": [],
            "needs_background": "light"
          }
        }
      ]
    },
    {
      "cell_type": "code",
      "metadata": {
        "colab": {
          "base_uri": "https://localhost:8080/",
          "height": 326
        },
        "id": "pTK9r6B-CDsW",
        "outputId": "a5dc2a18-c7e2-4e22-dc55-3f158ec0f22a"
      },
      "source": [
        "# Em quais tipos de transações ocorrem fraudes?\n",
        "df_new[df_new['isFraud'] == 1]['type'].value_counts().plot.bar()"
      ],
      "execution_count": null,
      "outputs": [
        {
          "output_type": "execute_result",
          "data": {
            "text/plain": [
              "<matplotlib.axes._subplots.AxesSubplot at 0x7f9e38210320>"
            ]
          },
          "metadata": {
            "tags": []
          },
          "execution_count": 32
        },
        {
          "output_type": "display_data",
          "data": {
            "image/png": "[encoded data removed]",
            "text/plain": [
              "<Figure size 432x288 with 1 Axes>"
            ]
          },
          "metadata": {
            "tags": [],
            "needs_background": "light"
          }
        }
      ]
    },
    {
      "cell_type": "code",
      "metadata": {
        "colab": {
          "base_uri": "https://localhost:8080/"
        },
        "id": "F2CXeUKKChNz",
        "outputId": "12963635-821e-4227-9109-bb21174d52a1"
      },
      "source": [
        "# Em quais tipos de transação não ocorre fraude\n",
        "df_new[df_new['isFraud'] == 0]['type'].value_counts()"
      ],
      "execution_count": null,
      "outputs": [
        {
          "output_type": "execute_result",
          "data": {
            "text/plain": [
              "CASH_OUT    2233384\n",
              "PAYMENT     2151495\n",
              "CASH_IN     1399284\n",
              "TRANSFER     528812\n",
              "DEBIT         41432\n",
              "Name: type, dtype: int64"
            ]
          },
          "metadata": {
            "tags": []
          },
          "execution_count": 33
        }
      ]
    },
    {
      "cell_type": "code",
      "metadata": {
        "colab": {
          "base_uri": "https://localhost:8080/"
        },
        "id": "2IPXdxO9Cwow",
        "outputId": "a7eae638-ccee-45eb-ea19-a55c5251177a"
      },
      "source": [
        "df_new['isFlaggedFraud'].value_counts()"
      ],
      "execution_count": null,
      "outputs": [
        {
          "output_type": "execute_result",
          "data": {
            "text/plain": [
              "0    6362604\n",
              "1         16\n",
              "Name: isFlaggedFraud, dtype: int64"
            ]
          },
          "metadata": {
            "tags": []
          },
          "execution_count": 34
        }
      ]
    },
    {
      "cell_type": "code",
      "metadata": {
        "colab": {
          "base_uri": "https://localhost:8080/"
        },
        "id": "cYqJU6S9DiqS",
        "outputId": "a7791b63-e8ae-4d3d-cf76-34f1bb49e6ed"
      },
      "source": [
        "# Será que o cara que realiza fraude sempre utiliza a mesma conta?\n",
        "max(df_new[ df_new['isFraud'] == 1     ]['nameOrig'].value_counts())"
      ],
      "execution_count": null,
      "outputs": [
        {
          "output_type": "execute_result",
          "data": {
            "text/plain": [
              "1"
            ]
          },
          "metadata": {
            "tags": []
          },
          "execution_count": 38
        }
      ]
    },
    {
      "cell_type": "code",
      "metadata": {
        "colab": {
          "base_uri": "https://localhost:8080/"
        },
        "id": "sTn5vMpeEU-W",
        "outputId": "9ba2d3a3-5036-48c4-905e-c850b7e92b67"
      },
      "source": [
        "max(df_new[ df_new['isFraud'] == 1     ]['nameDest'].value_counts())"
      ],
      "execution_count": null,
      "outputs": [
        {
          "output_type": "execute_result",
          "data": {
            "text/plain": [
              "2"
            ]
          },
          "metadata": {
            "tags": []
          },
          "execution_count": 39
        }
      ]
    },
    {
      "cell_type": "code",
      "metadata": {
        "colab": {
          "base_uri": "https://localhost:8080/"
        },
        "id": "MJ0Ttt77EeFS",
        "outputId": "95033acd-ded5-457a-bc0e-8a4cee9153a1"
      },
      "source": [
        "# Qual o valor de balanço que mais repete quando eu tenho fraude\n",
        "df_new[ df_new['isFraud'] == 1  ]['oldbalanceDest'].mode()"
      ],
      "execution_count": null,
      "outputs": [
        {
          "output_type": "execute_result",
          "data": {
            "text/plain": [
              "0   0.00\n",
              "dtype: float64"
            ]
          },
          "metadata": {
            "tags": []
          },
          "execution_count": 43
        }
      ]
    },
    {
      "cell_type": "code",
      "metadata": {
        "colab": {
          "base_uri": "https://localhost:8080/"
        },
        "id": "eLmUTP8yFaAQ",
        "outputId": "bd22bd51-4d7a-4262-8e62-476aaa7c2d0f"
      },
      "source": [
        "df_new[ df_new['isFraud'] == 1  ]['oldbalanceDest'].mode()"
      ],
      "execution_count": null,
      "outputs": [
        {
          "output_type": "execute_result",
          "data": {
            "text/plain": [
              "0   0.00\n",
              "dtype: float64"
            ]
          },
          "metadata": {
            "tags": []
          },
          "execution_count": 49
        }
      ]
    },
    {
      "cell_type": "code",
      "metadata": {
        "colab": {
          "base_uri": "https://localhost:8080/",
          "height": 284
        },
        "id": "kK3iii2qG9Lu",
        "outputId": "dadb2a60-2222-4052-d3fe-2cbe9338eeb8"
      },
      "source": [
        "df_new[ df['isFraud'] == 1].corr()"
      ],
      "execution_count": null,
      "outputs": [
        {
          "output_type": "execute_result",
          "data": {
            "text/html": [
              "<div>\n",
              "<style scoped>\n",
              "    .dataframe tbody tr th:only-of-type {\n",
              "        vertical-align: middle;\n",
              "    }\n",
              "\n",
              "    .dataframe tbody tr th {\n",
              "        vertical-align: top;\n",
              "    }\n",
              "\n",
              "    .dataframe thead th {\n",
              "        text-align: right;\n",
              "    }\n",
              "</style>\n",
              "<table border=\"1\" class=\"dataframe\">\n",
              "  <thead>\n",
              "    <tr style=\"text-align: right;\">\n",
              "      <th></th>\n",
              "      <th>step</th>\n",
              "      <th>amount</th>\n",
              "      <th>oldbalanceOrg</th>\n",
              "      <th>newbalanceOrig</th>\n",
              "      <th>oldbalanceDest</th>\n",
              "      <th>newbalanceDest</th>\n",
              "      <th>isFraud</th>\n",
              "      <th>isFlaggedFraud</th>\n",
              "    </tr>\n",
              "  </thead>\n",
              "  <tbody>\n",
              "    <tr>\n",
              "      <th>step</th>\n",
              "      <td>1.00</td>\n",
              "      <td>0.05</td>\n",
              "      <td>0.06</td>\n",
              "      <td>0.06</td>\n",
              "      <td>0.02</td>\n",
              "      <td>0.03</td>\n",
              "      <td>nan</td>\n",
              "      <td>0.03</td>\n",
              "    </tr>\n",
              "    <tr>\n",
              "      <th>amount</th>\n",
              "      <td>0.05</td>\n",
              "      <td>1.00</td>\n",
              "      <td>0.86</td>\n",
              "      <td>0.34</td>\n",
              "      <td>-0.01</td>\n",
              "      <td>0.30</td>\n",
              "      <td>nan</td>\n",
              "      <td>0.06</td>\n",
              "    </tr>\n",
              "    <tr>\n",
              "      <th>oldbalanceOrg</th>\n",
              "      <td>0.06</td>\n",
              "      <td>0.86</td>\n",
              "      <td>1.00</td>\n",
              "      <td>0.77</td>\n",
              "      <td>-0.01</td>\n",
              "      <td>0.19</td>\n",
              "      <td>nan</td>\n",
              "      <td>0.08</td>\n",
              "    </tr>\n",
              "    <tr>\n",
              "      <th>newbalanceOrig</th>\n",
              "      <td>0.06</td>\n",
              "      <td>0.34</td>\n",
              "      <td>0.77</td>\n",
              "      <td>1.00</td>\n",
              "      <td>-0.02</td>\n",
              "      <td>-0.03</td>\n",
              "      <td>nan</td>\n",
              "      <td>0.17</td>\n",
              "    </tr>\n",
              "    <tr>\n",
              "      <th>oldbalanceDest</th>\n",
              "      <td>0.02</td>\n",
              "      <td>-0.01</td>\n",
              "      <td>-0.01</td>\n",
              "      <td>-0.02</td>\n",
              "      <td>1.00</td>\n",
              "      <td>0.88</td>\n",
              "      <td>nan</td>\n",
              "      <td>-0.01</td>\n",
              "    </tr>\n",
              "    <tr>\n",
              "      <th>newbalanceDest</th>\n",
              "      <td>0.03</td>\n",
              "      <td>0.30</td>\n",
              "      <td>0.19</td>\n",
              "      <td>-0.03</td>\n",
              "      <td>0.88</td>\n",
              "      <td>1.00</td>\n",
              "      <td>nan</td>\n",
              "      <td>-0.01</td>\n",
              "    </tr>\n",
              "    <tr>\n",
              "      <th>isFraud</th>\n",
              "      <td>nan</td>\n",
              "      <td>nan</td>\n",
              "      <td>nan</td>\n",
              "      <td>nan</td>\n",
              "      <td>nan</td>\n",
              "      <td>nan</td>\n",
              "      <td>nan</td>\n",
              "      <td>nan</td>\n",
              "    </tr>\n",
              "    <tr>\n",
              "      <th>isFlaggedFraud</th>\n",
              "      <td>0.03</td>\n",
              "      <td>0.06</td>\n",
              "      <td>0.08</td>\n",
              "      <td>0.17</td>\n",
              "      <td>-0.01</td>\n",
              "      <td>-0.01</td>\n",
              "      <td>nan</td>\n",
              "      <td>1.00</td>\n",
              "    </tr>\n",
              "  </tbody>\n",
              "</table>\n",
              "</div>"
            ],
            "text/plain": [
              "                step  amount  ...  isFraud  isFlaggedFraud\n",
              "step            1.00    0.05  ...      nan            0.03\n",
              "amount          0.05    1.00  ...      nan            0.06\n",
              "oldbalanceOrg   0.06    0.86  ...      nan            0.08\n",
              "newbalanceOrig  0.06    0.34  ...      nan            0.17\n",
              "oldbalanceDest  0.02   -0.01  ...      nan           -0.01\n",
              "newbalanceDest  0.03    0.30  ...      nan           -0.01\n",
              "isFraud          nan     nan  ...      nan             nan\n",
              "isFlaggedFraud  0.03    0.06  ...      nan            1.00\n",
              "\n",
              "[8 rows x 8 columns]"
            ]
          },
          "metadata": {
            "tags": []
          },
          "execution_count": 52
        }
      ]
    },
    {
      "cell_type": "markdown",
      "metadata": {
        "id": "NCZIcajKIB4j"
      },
      "source": [
        "# Preparar os dados para rodar modelos"
      ]
    },
    {
      "cell_type": "code",
      "metadata": {
        "colab": {
          "base_uri": "https://localhost:8080/"
        },
        "id": "2iv-z0svIjtC",
        "outputId": "6d2d5ebe-d9a0-48c0-c36c-83816a77cc56"
      },
      "source": [
        "df_new['type'].unique()"
      ],
      "execution_count": null,
      "outputs": [
        {
          "output_type": "execute_result",
          "data": {
            "text/plain": [
              "array(['PAYMENT', 'TRANSFER', 'CASH_OUT', 'DEBIT', 'CASH_IN'],\n",
              "      dtype=object)"
            ]
          },
          "metadata": {
            "tags": []
          },
          "execution_count": 54
        }
      ]
    },
    {
      "cell_type": "code",
      "metadata": {
        "id": "jZemcNj_IBCA"
      },
      "source": [
        "le = preprocessing.LabelEncoder()\n",
        "le.fit(df_new['type'].unique())\n",
        "df_new['type'] = le.transform(df_new['type'])"
      ],
      "execution_count": null,
      "outputs": []
    },
    {
      "cell_type": "code",
      "metadata": {
        "colab": {
          "base_uri": "https://localhost:8080/"
        },
        "id": "W3zYGySBI0o7",
        "outputId": "efcbeb46-b64a-4275-a830-0f8a725f6795"
      },
      "source": [
        "df_new['type'].unique()"
      ],
      "execution_count": null,
      "outputs": [
        {
          "output_type": "execute_result",
          "data": {
            "text/plain": [
              "array([3, 4, 1, 2, 0])"
            ]
          },
          "metadata": {
            "tags": []
          },
          "execution_count": 57
        }
      ]
    },
    {
      "cell_type": "code",
      "metadata": {
        "id": "2fecBmO_I_vK"
      },
      "source": [
        "df_new = df_new.drop(['nameOrig', 'nameDest', 'type1', 'step'], axis = 1)"
      ],
      "execution_count": null,
      "outputs": []
    },
    {
      "cell_type": "code",
      "metadata": {
        "colab": {
          "base_uri": "https://localhost:8080/",
          "height": 202
        },
        "id": "vRh2bgWvJTYb",
        "outputId": "3026de56-af02-45b8-8c8f-d6f573ee3e59"
      },
      "source": [
        "df_new.head()"
      ],
      "execution_count": null,
      "outputs": [
        {
          "output_type": "execute_result",
          "data": {
            "text/html": [
              "<div>\n",
              "<style scoped>\n",
              "    .dataframe tbody tr th:only-of-type {\n",
              "        vertical-align: middle;\n",
              "    }\n",
              "\n",
              "    .dataframe tbody tr th {\n",
              "        vertical-align: top;\n",
              "    }\n",
              "\n",
              "    .dataframe thead th {\n",
              "        text-align: right;\n",
              "    }\n",
              "</style>\n",
              "<table border=\"1\" class=\"dataframe\">\n",
              "  <thead>\n",
              "    <tr style=\"text-align: right;\">\n",
              "      <th></th>\n",
              "      <th>type</th>\n",
              "      <th>amount</th>\n",
              "      <th>oldbalanceOrg</th>\n",
              "      <th>newbalanceOrig</th>\n",
              "      <th>oldbalanceDest</th>\n",
              "      <th>newbalanceDest</th>\n",
              "      <th>isFraud</th>\n",
              "      <th>isFlaggedFraud</th>\n",
              "    </tr>\n",
              "  </thead>\n",
              "  <tbody>\n",
              "    <tr>\n",
              "      <th>0</th>\n",
              "      <td>3</td>\n",
              "      <td>9839.64</td>\n",
              "      <td>170136.00</td>\n",
              "      <td>160296.36</td>\n",
              "      <td>0.00</td>\n",
              "      <td>0.00</td>\n",
              "      <td>0</td>\n",
              "      <td>0</td>\n",
              "    </tr>\n",
              "    <tr>\n",
              "      <th>1</th>\n",
              "      <td>3</td>\n",
              "      <td>1864.28</td>\n",
              "      <td>21249.00</td>\n",
              "      <td>19384.72</td>\n",
              "      <td>0.00</td>\n",
              "      <td>0.00</td>\n",
              "      <td>0</td>\n",
              "      <td>0</td>\n",
              "    </tr>\n",
              "    <tr>\n",
              "      <th>2</th>\n",
              "      <td>4</td>\n",
              "      <td>181.00</td>\n",
              "      <td>181.00</td>\n",
              "      <td>0.00</td>\n",
              "      <td>0.00</td>\n",
              "      <td>0.00</td>\n",
              "      <td>1</td>\n",
              "      <td>0</td>\n",
              "    </tr>\n",
              "    <tr>\n",
              "      <th>3</th>\n",
              "      <td>1</td>\n",
              "      <td>181.00</td>\n",
              "      <td>181.00</td>\n",
              "      <td>0.00</td>\n",
              "      <td>21182.00</td>\n",
              "      <td>0.00</td>\n",
              "      <td>1</td>\n",
              "      <td>0</td>\n",
              "    </tr>\n",
              "    <tr>\n",
              "      <th>4</th>\n",
              "      <td>3</td>\n",
              "      <td>11668.14</td>\n",
              "      <td>41554.00</td>\n",
              "      <td>29885.86</td>\n",
              "      <td>0.00</td>\n",
              "      <td>0.00</td>\n",
              "      <td>0</td>\n",
              "      <td>0</td>\n",
              "    </tr>\n",
              "  </tbody>\n",
              "</table>\n",
              "</div>"
            ],
            "text/plain": [
              "   type   amount  oldbalanceOrg  ...  newbalanceDest  isFraud  isFlaggedFraud\n",
              "0     3  9839.64      170136.00  ...            0.00        0               0\n",
              "1     3  1864.28       21249.00  ...            0.00        0               0\n",
              "2     4   181.00         181.00  ...            0.00        1               0\n",
              "3     1   181.00         181.00  ...            0.00        1               0\n",
              "4     3 11668.14       41554.00  ...            0.00        0               0\n",
              "\n",
              "[5 rows x 8 columns]"
            ]
          },
          "metadata": {
            "tags": []
          },
          "execution_count": 59
        }
      ]
    },
    {
      "cell_type": "markdown",
      "metadata": {
        "id": "BjQrU8BuJct5"
      },
      "source": [
        "# Variável dependente e independente"
      ]
    },
    {
      "cell_type": "code",
      "metadata": {
        "colab": {
          "base_uri": "https://localhost:8080/"
        },
        "id": "dXtCxhP1Ja61",
        "outputId": "68dae539-5d38-4b73-e8cb-fbc989220205"
      },
      "source": [
        "[i for i in df_new.columns if i != 'isFraud' and i != 'isFlaggedFraud']\n"
      ],
      "execution_count": null,
      "outputs": [
        {
          "output_type": "execute_result",
          "data": {
            "text/plain": [
              "['type',\n",
              " 'amount',\n",
              " 'oldbalanceOrg',\n",
              " 'newbalanceOrig',\n",
              " 'oldbalanceDest',\n",
              " 'newbalanceDest']"
            ]
          },
          "metadata": {
            "tags": []
          },
          "execution_count": 64
        }
      ]
    },
    {
      "cell_type": "code",
      "metadata": {
        "colab": {
          "base_uri": "https://localhost:8080/",
          "height": 195
        },
        "id": "64A1PbNVKa-y",
        "outputId": "e23121a4-662e-4efd-9478-be2c792e1c4a"
      },
      "source": [
        "# Variaveis independentes\n",
        "X = df_new[ [i for i in df_new.columns if i != 'isFraud' and i != 'isFlaggedFraud'] ]\n",
        "X.head()"
      ],
      "execution_count": null,
      "outputs": [
        {
          "output_type": "execute_result",
          "data": {
            "text/html": [
              "<div>\n",
              "<style scoped>\n",
              "    .dataframe tbody tr th:only-of-type {\n",
              "        vertical-align: middle;\n",
              "    }\n",
              "\n",
              "    .dataframe tbody tr th {\n",
              "        vertical-align: top;\n",
              "    }\n",
              "\n",
              "    .dataframe thead th {\n",
              "        text-align: right;\n",
              "    }\n",
              "</style>\n",
              "<table border=\"1\" class=\"dataframe\">\n",
              "  <thead>\n",
              "    <tr style=\"text-align: right;\">\n",
              "      <th></th>\n",
              "      <th>type</th>\n",
              "      <th>amount</th>\n",
              "      <th>oldbalanceOrg</th>\n",
              "      <th>newbalanceOrig</th>\n",
              "      <th>oldbalanceDest</th>\n",
              "      <th>newbalanceDest</th>\n",
              "    </tr>\n",
              "  </thead>\n",
              "  <tbody>\n",
              "    <tr>\n",
              "      <th>0</th>\n",
              "      <td>3</td>\n",
              "      <td>9839.64</td>\n",
              "      <td>170136.00</td>\n",
              "      <td>160296.36</td>\n",
              "      <td>0.00</td>\n",
              "      <td>0.00</td>\n",
              "    </tr>\n",
              "    <tr>\n",
              "      <th>1</th>\n",
              "      <td>3</td>\n",
              "      <td>1864.28</td>\n",
              "      <td>21249.00</td>\n",
              "      <td>19384.72</td>\n",
              "      <td>0.00</td>\n",
              "      <td>0.00</td>\n",
              "    </tr>\n",
              "    <tr>\n",
              "      <th>2</th>\n",
              "      <td>4</td>\n",
              "      <td>181.00</td>\n",
              "      <td>181.00</td>\n",
              "      <td>0.00</td>\n",
              "      <td>0.00</td>\n",
              "      <td>0.00</td>\n",
              "    </tr>\n",
              "    <tr>\n",
              "      <th>3</th>\n",
              "      <td>1</td>\n",
              "      <td>181.00</td>\n",
              "      <td>181.00</td>\n",
              "      <td>0.00</td>\n",
              "      <td>21182.00</td>\n",
              "      <td>0.00</td>\n",
              "    </tr>\n",
              "    <tr>\n",
              "      <th>4</th>\n",
              "      <td>3</td>\n",
              "      <td>11668.14</td>\n",
              "      <td>41554.00</td>\n",
              "      <td>29885.86</td>\n",
              "      <td>0.00</td>\n",
              "      <td>0.00</td>\n",
              "    </tr>\n",
              "  </tbody>\n",
              "</table>\n",
              "</div>"
            ],
            "text/plain": [
              "   type   amount  oldbalanceOrg  newbalanceOrig  oldbalanceDest  newbalanceDest\n",
              "0     3  9839.64      170136.00       160296.36            0.00            0.00\n",
              "1     3  1864.28       21249.00        19384.72            0.00            0.00\n",
              "2     4   181.00         181.00            0.00            0.00            0.00\n",
              "3     1   181.00         181.00            0.00        21182.00            0.00\n",
              "4     3 11668.14       41554.00        29885.86            0.00            0.00"
            ]
          },
          "metadata": {
            "tags": []
          },
          "execution_count": 65
        }
      ]
    },
    {
      "cell_type": "code",
      "metadata": {
        "colab": {
          "base_uri": "https://localhost:8080/"
        },
        "id": "nHYKfvM-Kt4u",
        "outputId": "c8c0e37d-3b2b-43df-f547-eebb101becf6"
      },
      "source": [
        "# Variável dependente\n",
        "y = df_new['isFraud']\n",
        "y.head()"
      ],
      "execution_count": null,
      "outputs": [
        {
          "output_type": "execute_result",
          "data": {
            "text/plain": [
              "0    0\n",
              "1    0\n",
              "2    1\n",
              "3    1\n",
              "4    0\n",
              "Name: isFraud, dtype: int64"
            ]
          },
          "metadata": {
            "tags": []
          },
          "execution_count": 66
        }
      ]
    },
    {
      "cell_type": "markdown",
      "metadata": {
        "id": "2tGAJDvTK6CL"
      },
      "source": [
        "![diagrama_geral_modelo.png](data:image/png;base64,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)"
      ]
    },
    {
      "cell_type": "code",
      "metadata": {
        "id": "MU0jFy0kLsB5"
      },
      "source": [
        "X_train, X_test, y_train, y_test = train_test_split(X, y, test_size=0.30)"
      ],
      "execution_count": null,
      "outputs": []
    },
    {
      "cell_type": "code",
      "metadata": {
        "colab": {
          "base_uri": "https://localhost:8080/"
        },
        "id": "-JIX2k7cL_nK",
        "outputId": "30a8a7d4-3f2b-486a-85cb-87c317d51ae1"
      },
      "source": [
        "X_train.shape[0] / df_new.shape[0]"
      ],
      "execution_count": null,
      "outputs": [
        {
          "output_type": "execute_result",
          "data": {
            "text/plain": [
              "0.7"
            ]
          },
          "metadata": {
            "tags": []
          },
          "execution_count": 74
        }
      ]
    },
    {
      "cell_type": "code",
      "metadata": {
        "colab": {
          "base_uri": "https://localhost:8080/"
        },
        "id": "bJ2RYjkXM1Ld",
        "outputId": "89987bdd-8bb6-42a3-eb88-1ee68d62d5b7"
      },
      "source": [
        "X_test.shape[0] / df_new.shape[0]"
      ],
      "execution_count": null,
      "outputs": [
        {
          "output_type": "execute_result",
          "data": {
            "text/plain": [
              "0.3"
            ]
          },
          "metadata": {
            "tags": []
          },
          "execution_count": 75
        }
      ]
    },
    {
      "cell_type": "markdown",
      "metadata": {
        "id": "t8CNfB_sONCs"
      },
      "source": [
        "# Regressão Logística"
      ]
    },
    {
      "cell_type": "code",
      "metadata": {
        "id": "LN2yUQCSOMdW"
      },
      "source": [
        "rg = LogisticRegression(random_state=42, class_weight='balanced')"
      ],
      "execution_count": null,
      "outputs": []
    },
    {
      "cell_type": "code",
      "metadata": {
        "colab": {
          "base_uri": "https://localhost:8080/"
        },
        "id": "_G88GI61O1Zs",
        "outputId": "4185453d-a148-4a71-cb4b-5d9c3966a8b0"
      },
      "source": [
        "%%time\n",
        "rg.fit(X_train, y_train)"
      ],
      "execution_count": null,
      "outputs": [
        {
          "output_type": "stream",
          "text": [
            "CPU times: user 32.2 s, sys: 5.75 s, total: 38 s\n",
            "Wall time: 27.9 s\n"
          ],
          "name": "stdout"
        },
        {
          "output_type": "execute_result",
          "data": {
            "text/plain": [
              "LogisticRegression(C=1.0, class_weight='balanced', dual=False,\n",
              "                   fit_intercept=True, intercept_scaling=1, l1_ratio=None,\n",
              "                   max_iter=100, multi_class='auto', n_jobs=None, penalty='l2',\n",
              "                   random_state=42, solver='lbfgs', tol=0.0001, verbose=0,\n",
              "                   warm_start=False)"
            ]
          },
          "metadata": {
            "tags": []
          },
          "execution_count": 126
        }
      ]
    },
    {
      "cell_type": "code",
      "metadata": {
        "colab": {
          "base_uri": "https://localhost:8080/",
          "height": 195
        },
        "id": "8ryBnLRTP5tb",
        "outputId": "e9425667-62c0-421d-fd93-78250938a83f"
      },
      "source": [
        "X_test.head()"
      ],
      "execution_count": null,
      "outputs": [
        {
          "output_type": "execute_result",
          "data": {
            "text/html": [
              "<div>\n",
              "<style scoped>\n",
              "    .dataframe tbody tr th:only-of-type {\n",
              "        vertical-align: middle;\n",
              "    }\n",
              "\n",
              "    .dataframe tbody tr th {\n",
              "        vertical-align: top;\n",
              "    }\n",
              "\n",
              "    .dataframe thead th {\n",
              "        text-align: right;\n",
              "    }\n",
              "</style>\n",
              "<table border=\"1\" class=\"dataframe\">\n",
              "  <thead>\n",
              "    <tr style=\"text-align: right;\">\n",
              "      <th></th>\n",
              "      <th>type</th>\n",
              "      <th>amount</th>\n",
              "      <th>oldbalanceOrg</th>\n",
              "      <th>newbalanceOrig</th>\n",
              "      <th>oldbalanceDest</th>\n",
              "      <th>newbalanceDest</th>\n",
              "    </tr>\n",
              "  </thead>\n",
              "  <tbody>\n",
              "    <tr>\n",
              "      <th>5602983</th>\n",
              "      <td>1</td>\n",
              "      <td>106137.63</td>\n",
              "      <td>0.00</td>\n",
              "      <td>0.00</td>\n",
              "      <td>2688399.83</td>\n",
              "      <td>2794537.46</td>\n",
              "    </tr>\n",
              "    <tr>\n",
              "      <th>5590587</th>\n",
              "      <td>0</td>\n",
              "      <td>33587.03</td>\n",
              "      <td>5473617.21</td>\n",
              "      <td>5507204.24</td>\n",
              "      <td>164819.19</td>\n",
              "      <td>131232.17</td>\n",
              "    </tr>\n",
              "    <tr>\n",
              "      <th>5565256</th>\n",
              "      <td>1</td>\n",
              "      <td>129547.02</td>\n",
              "      <td>0.00</td>\n",
              "      <td>0.00</td>\n",
              "      <td>373650.30</td>\n",
              "      <td>503197.32</td>\n",
              "    </tr>\n",
              "    <tr>\n",
              "      <th>1368433</th>\n",
              "      <td>1</td>\n",
              "      <td>165680.80</td>\n",
              "      <td>42819.00</td>\n",
              "      <td>0.00</td>\n",
              "      <td>10993.48</td>\n",
              "      <td>127203.05</td>\n",
              "    </tr>\n",
              "    <tr>\n",
              "      <th>5173925</th>\n",
              "      <td>4</td>\n",
              "      <td>484078.56</td>\n",
              "      <td>0.00</td>\n",
              "      <td>0.00</td>\n",
              "      <td>1362747.64</td>\n",
              "      <td>1846826.20</td>\n",
              "    </tr>\n",
              "  </tbody>\n",
              "</table>\n",
              "</div>"
            ],
            "text/plain": [
              "         type    amount  ...  oldbalanceDest  newbalanceDest\n",
              "5602983     1 106137.63  ...      2688399.83      2794537.46\n",
              "5590587     0  33587.03  ...       164819.19       131232.17\n",
              "5565256     1 129547.02  ...       373650.30       503197.32\n",
              "1368433     1 165680.80  ...        10993.48       127203.05\n",
              "5173925     4 484078.56  ...      1362747.64      1846826.20\n",
              "\n",
              "[5 rows x 6 columns]"
            ]
          },
          "metadata": {
            "tags": []
          },
          "execution_count": 127
        }
      ]
    },
    {
      "cell_type": "code",
      "metadata": {
        "colab": {
          "base_uri": "https://localhost:8080/"
        },
        "id": "yHR-JHRiP9oL",
        "outputId": "2fdadbf6-df10-4e35-da2b-21720f5be3b4"
      },
      "source": [
        "X_test.loc[5565256].tolist()"
      ],
      "execution_count": null,
      "outputs": [
        {
          "output_type": "execute_result",
          "data": {
            "text/plain": [
              "[1.0, 129547.02, 0.0, 0.0, 373650.3, 503197.32]"
            ]
          },
          "metadata": {
            "tags": []
          },
          "execution_count": 128
        }
      ]
    },
    {
      "cell_type": "code",
      "metadata": {
        "colab": {
          "base_uri": "https://localhost:8080/"
        },
        "id": "t2qy0qkYRplv",
        "outputId": "271ee8c0-d503-4ec4-e983-4e100c058e64"
      },
      "source": [
        "rg.predict([X_test.loc[5565256].tolist()])"
      ],
      "execution_count": null,
      "outputs": [
        {
          "output_type": "execute_result",
          "data": {
            "text/plain": [
              "array([0])"
            ]
          },
          "metadata": {
            "tags": []
          },
          "execution_count": 129
        }
      ]
    },
    {
      "cell_type": "code",
      "metadata": {
        "colab": {
          "base_uri": "https://localhost:8080/"
        },
        "id": "X76761XnR7gs",
        "outputId": "945fd7d2-5cce-4fad-aa8e-40d206a3b3bc"
      },
      "source": [
        "df.loc[5565256]"
      ],
      "execution_count": null,
      "outputs": [
        {
          "output_type": "execute_result",
          "data": {
            "text/plain": [
              "step                     393\n",
              "type                CASH_OUT\n",
              "amount             129547.02\n",
              "nameOrig          C359042469\n",
              "oldbalanceOrg           0.00\n",
              "newbalanceOrig          0.00\n",
              "nameDest          C547923441\n",
              "oldbalanceDest     373650.30\n",
              "newbalanceDest     503197.32\n",
              "isFraud                    0\n",
              "isFlaggedFraud             0\n",
              "Name: 5565256, dtype: object"
            ]
          },
          "metadata": {
            "tags": []
          },
          "execution_count": 86
        }
      ]
    },
    {
      "cell_type": "code",
      "metadata": {
        "id": "AJw4H3ozSI2Y"
      },
      "source": [
        "predictions_rg = rg.predict(X_test)"
      ],
      "execution_count": null,
      "outputs": []
    },
    {
      "cell_type": "code",
      "metadata": {
        "id": "uPtemSeSSTXw"
      },
      "source": [
        "# Criando a matriz de confusão\n",
        "data_rg = {'y_Actual':  y_test,\n",
        "        'y_Predicted': predictions_rg}\n",
        "\n",
        "df_rg = pd.DataFrame(data_rg, columns=['y_Actual','y_Predicted'])\n",
        "df_rg.head()\n",
        "confusion_matrix_rg = pd.crosstab(df_rg['y_Actual'], df_rg['y_Predicted'], rownames=['Actual'], colnames=['Predicted'])"
      ],
      "execution_count": null,
      "outputs": []
    },
    {
      "cell_type": "code",
      "metadata": {
        "colab": {
          "base_uri": "https://localhost:8080/"
        },
        "id": "86NIyql-T9-U",
        "outputId": "543e3eb0-e147-4d2f-8acd-b5cf5d3a7a1d"
      },
      "source": [
        "y_test.value_counts()"
      ],
      "execution_count": null,
      "outputs": [
        {
          "output_type": "execute_result",
          "data": {
            "text/plain": [
              "0    1906296\n",
              "1       2490\n",
              "Name: isFraud, dtype: int64"
            ]
          },
          "metadata": {
            "tags": []
          },
          "execution_count": 97
        }
      ]
    },
    {
      "cell_type": "code",
      "metadata": {
        "colab": {
          "base_uri": "https://localhost:8080/",
          "height": 136
        },
        "id": "Ir4xhS7MStLT",
        "outputId": "b0d11d11-5a80-4ce0-ea13-6f0b949e79ac"
      },
      "source": [
        "confusion_matrix_rg"
      ],
      "execution_count": null,
      "outputs": [
        {
          "output_type": "execute_result",
          "data": {
            "text/html": [
              "<div>\n",
              "<style scoped>\n",
              "    .dataframe tbody tr th:only-of-type {\n",
              "        vertical-align: middle;\n",
              "    }\n",
              "\n",
              "    .dataframe tbody tr th {\n",
              "        vertical-align: top;\n",
              "    }\n",
              "\n",
              "    .dataframe thead th {\n",
              "        text-align: right;\n",
              "    }\n",
              "</style>\n",
              "<table border=\"1\" class=\"dataframe\">\n",
              "  <thead>\n",
              "    <tr style=\"text-align: right;\">\n",
              "      <th>Predicted</th>\n",
              "      <th>0</th>\n",
              "      <th>1</th>\n",
              "    </tr>\n",
              "    <tr>\n",
              "      <th>Actual</th>\n",
              "      <th></th>\n",
              "      <th></th>\n",
              "    </tr>\n",
              "  </thead>\n",
              "  <tbody>\n",
              "    <tr>\n",
              "      <th>0</th>\n",
              "      <td>1250504</td>\n",
              "      <td>655792</td>\n",
              "    </tr>\n",
              "    <tr>\n",
              "      <th>1</th>\n",
              "      <td>46</td>\n",
              "      <td>2444</td>\n",
              "    </tr>\n",
              "  </tbody>\n",
              "</table>\n",
              "</div>"
            ],
            "text/plain": [
              "Predicted        0       1\n",
              "Actual                    \n",
              "0          1250504  655792\n",
              "1               46    2444"
            ]
          },
          "metadata": {
            "tags": []
          },
          "execution_count": 132
        }
      ]
    },
    {
      "cell_type": "code",
      "metadata": {
        "colab": {
          "base_uri": "https://localhost:8080/"
        },
        "id": "ZYVBBHNGS55t",
        "outputId": "e5df1aa0-2ce1-4c43-fbb8-a905b9cae456"
      },
      "source": [
        "print('Porcentagem de acerto dos casos não fraude: ', 1903078 / (1903078 + 3218))\n",
        "print('Porcentagem de acerto dos casos como fraude: ', 1987 / (503 + 1987))"
      ],
      "execution_count": null,
      "outputs": [
        {
          "output_type": "stream",
          "text": [
            "Porcentagem de acerto dos casos não fraude:  0.9983119095880179\n",
            "Porcentagem de acerto dos casos como fraude:  0.797991967871486\n"
          ],
          "name": "stdout"
        }
      ]
    },
    {
      "cell_type": "code",
      "metadata": {
        "colab": {
          "base_uri": "https://localhost:8080/",
          "height": 293
        },
        "id": "Hwl9dZoTUprx",
        "outputId": "e6bf9d84-c132-4a9e-a167-7ab610a72039"
      },
      "source": [
        "cf_matrix = confusion_matrix(y_test, predictions_rg)\n",
        "labels = ['Verdadeiro Negativo','Falso Positivo','Falso Negativo','Verdadeiro Positivo']\n",
        "labels = np.asarray(labels).reshape(2,2)\n",
        "sns.heatmap(cf_matrix, annot=labels, fmt='', cmap='Blues')"
      ],
      "execution_count": null,
      "outputs": [
        {
          "output_type": "execute_result",
          "data": {
            "text/plain": [
              "<matplotlib.axes._subplots.AxesSubplot at 0x7f9e38110fd0>"
            ]
          },
          "metadata": {
            "tags": []
          },
          "execution_count": 134
        },
        {
          "output_type": "display_data",
          "data": {
            "image/png": "[encoded data removed]",
            "text/plain": [
              "<Figure size 432x288 with 2 Axes>"
            ]
          },
          "metadata": {
            "tags": [],
            "needs_background": "light"
          }
        }
      ]
    },
    {
      "cell_type": "code",
      "metadata": {
        "colab": {
          "base_uri": "https://localhost:8080/"
        },
        "id": "FvHWvjopVlNh",
        "outputId": "631b5b9c-e958-40da-a683-a1c40769439e"
      },
      "source": [
        "print(\"Acc: \", accuracy_score(y_test, predictions_rg))\n",
        "print('Precisão: ', precision_score(y_test, predictions_rg)) # Positivos verdadeiros sobre total de positivos. Quanto menor, mais falso positivos contém na predição.\n",
        "print('Recall: ', recall_score(y_test, predictions_rg)) #Número de positivos verdadeiros divididos pelo número de valores positivos nos dados de teste. Quanto menor, mais falso negativos contém na predição\n",
        "print('f1_score: ', f1_score(y_test, predictions_rg))"
      ],
      "execution_count": null,
      "outputs": [
        {
          "output_type": "stream",
          "text": [
            "Acc:  0.9980505934138243\n",
            "Precisão:  0.38174831892411143\n",
            "Recall:  0.797991967871486\n",
            "f1_score:  0.5164392462638077\n"
          ],
          "name": "stdout"
        }
      ]
    },
    {
      "cell_type": "code",
      "metadata": {
        "colab": {
          "base_uri": "https://localhost:8080/"
        },
        "id": "xFzPgmqLWSr2",
        "outputId": "fe6ab8e9-a3d1-419f-ae02-2eae7b7fd57b"
      },
      "source": [
        "df['isFraud'].value_counts()"
      ],
      "execution_count": null,
      "outputs": [
        {
          "output_type": "execute_result",
          "data": {
            "text/plain": [
              "0    6354407\n",
              "1       8213\n",
              "Name: isFraud, dtype: int64"
            ]
          },
          "metadata": {
            "tags": []
          },
          "execution_count": 104
        }
      ]
    },
    {
      "cell_type": "code",
      "metadata": {
        "colab": {
          "base_uri": "https://localhost:8080/"
        },
        "id": "JFz6LXx1XcMV",
        "outputId": "30764012-25ae-424f-f95d-582c6e3c6626"
      },
      "source": [
        "oversamples = SMOTE()\n",
        "X_new, y_new = oversamples.fit_sample(X, y)"
      ],
      "execution_count": null,
      "outputs": [
        {
          "output_type": "stream",
          "text": [
            "/usr/local/lib/python3.6/dist-packages/sklearn/utils/deprecation.py:87: FutureWarning: Function safe_indexing is deprecated; safe_indexing is deprecated in version 0.22 and will be removed in version 0.24.\n",
            "  warnings.warn(msg, category=FutureWarning)\n"
          ],
          "name": "stderr"
        }
      ]
    },
    {
      "cell_type": "code",
      "metadata": {
        "colab": {
          "base_uri": "https://localhost:8080/"
        },
        "id": "XN-xIf5GZNjH",
        "outputId": "0eb530af-7f96-4090-d670-0156e2d37d51"
      },
      "source": [
        "from collections import Counter\n",
        "Counter(y_new)"
      ],
      "execution_count": null,
      "outputs": [
        {
          "output_type": "execute_result",
          "data": {
            "text/plain": [
              "Counter({0: 6354407, 1: 6354407})"
            ]
          },
          "metadata": {
            "tags": []
          },
          "execution_count": 109
        }
      ]
    },
    {
      "cell_type": "code",
      "metadata": {
        "id": "BLbeX3UDbWjd"
      },
      "source": [
        "X_train_n, X_test_n, y_train_n, y_test_n = train_test_split(X_new, y_new, test_size=0.30)"
      ],
      "execution_count": null,
      "outputs": []
    },
    {
      "cell_type": "code",
      "metadata": {
        "colab": {
          "base_uri": "https://localhost:8080/"
        },
        "id": "f-b8WD9wbcYP",
        "outputId": "c25c1b41-dca2-4e11-d7fd-8ee54b484729"
      },
      "source": [
        "%%time\n",
        "#Aplicando Regressão Logística na nova distribuição de classes\n",
        "rg_new = LogisticRegression(random_state=42)\n",
        "rg_new.fit(X_train_n, y_train_n)\n",
        "predictions_rg_new = rg_new.predict(X_test_n)"
      ],
      "execution_count": null,
      "outputs": [
        {
          "output_type": "stream",
          "text": [
            "CPU times: user 47.2 s, sys: 5.26 s, total: 52.5 s\n",
            "Wall time: 40.8 s\n"
          ],
          "name": "stdout"
        }
      ]
    },
    {
      "cell_type": "code",
      "metadata": {
        "id": "nRJ5YYadblHM"
      },
      "source": [
        "# Matriz de confusão\n",
        "data_rg_new = {'y_Actual': y_test_n,\n",
        "        'y_Predicted': predictions_rg_new}\n",
        "\n",
        "df_rg_new = pd.DataFrame(data_rg_new, columns=['y_Actual','y_Predicted'])\n",
        "confusion_matrix_rg_new = pd.crosstab(df_rg_new['y_Actual'], df_rg_new['y_Predicted'], rownames=['Actual'], colnames=['Predicted'])"
      ],
      "execution_count": null,
      "outputs": []
    },
    {
      "cell_type": "code",
      "metadata": {
        "colab": {
          "base_uri": "https://localhost:8080/",
          "height": 136
        },
        "id": "dxqeUZ8ebr55",
        "outputId": "24c59653-d55f-4f02-9a9a-71e6a60c3d2d"
      },
      "source": [
        "confusion_matrix_rg_new"
      ],
      "execution_count": null,
      "outputs": [
        {
          "output_type": "execute_result",
          "data": {
            "text/html": [
              "<div>\n",
              "<style scoped>\n",
              "    .dataframe tbody tr th:only-of-type {\n",
              "        vertical-align: middle;\n",
              "    }\n",
              "\n",
              "    .dataframe tbody tr th {\n",
              "        vertical-align: top;\n",
              "    }\n",
              "\n",
              "    .dataframe thead th {\n",
              "        text-align: right;\n",
              "    }\n",
              "</style>\n",
              "<table border=\"1\" class=\"dataframe\">\n",
              "  <thead>\n",
              "    <tr style=\"text-align: right;\">\n",
              "      <th>Predicted</th>\n",
              "      <th>0</th>\n",
              "      <th>1</th>\n",
              "    </tr>\n",
              "    <tr>\n",
              "      <th>Actual</th>\n",
              "      <th></th>\n",
              "      <th></th>\n",
              "    </tr>\n",
              "  </thead>\n",
              "  <tbody>\n",
              "    <tr>\n",
              "      <th>0</th>\n",
              "      <td>1324041</td>\n",
              "      <td>582905</td>\n",
              "    </tr>\n",
              "    <tr>\n",
              "      <th>1</th>\n",
              "      <td>33463</td>\n",
              "      <td>1872236</td>\n",
              "    </tr>\n",
              "  </tbody>\n",
              "</table>\n",
              "</div>"
            ],
            "text/plain": [
              "Predicted        0        1\n",
              "Actual                     \n",
              "0          1324041   582905\n",
              "1            33463  1872236"
            ]
          },
          "metadata": {
            "tags": []
          },
          "execution_count": 113
        }
      ]
    },
    {
      "cell_type": "code",
      "metadata": {
        "colab": {
          "base_uri": "https://localhost:8080/"
        },
        "id": "tqMxIO-qbupj",
        "outputId": "c243c9a2-1230-4142-90cd-e1c3a578b163"
      },
      "source": [
        "print('Porcentagem de acerto para 0: ', 1324041 / (1324041 + 582905))\n",
        "print('Porcentagem de acerto para 1: ', 1872236 / (33463 + 1872236))"
      ],
      "execution_count": null,
      "outputs": [
        {
          "output_type": "stream",
          "text": [
            "Porcentagem de acerto para 0:  0.6943253768066846\n",
            "Porcentagem de acerto para 1:  0.9824405638036227\n"
          ],
          "name": "stdout"
        }
      ]
    },
    {
      "cell_type": "code",
      "metadata": {
        "colab": {
          "base_uri": "https://localhost:8080/"
        },
        "id": "-zRKUYGhcE5L",
        "outputId": "73b41891-731d-4894-a1fe-54ff86fb5bdb"
      },
      "source": [
        "# Avaliando métricas do modelo\n",
        "print(\"Acc: \", accuracy_score(y_test_n, predictions_rg_new))\n",
        "print('Precisão: ', precision_score(y_test_n, predictions_rg_new)) # Positivos verdadeiros sobre total de positivos. Quanto menor, mais falso positivos contém na predição.\n",
        "print('Recall', recall_score(y_test_n, predictions_rg_new)) # Número de positivos verdadeiros divididos pelo número de valores positivos nos dados d teste. Quanto menor, mais falso negativos contém na predição\n",
        "print('f1_score: ', f1_score(y_test_n, predictions_rg_new))\n",
        "print('AUC: ', roc_auc_score(y_test_n, predictions_rg_new))"
      ],
      "execution_count": null,
      "outputs": [
        {
          "output_type": "stream",
          "text": [
            "Acc:  0.8383358534560653\n",
            "Precisão:  0.7625777908478576\n",
            "Recall 0.9824405638036227\n",
            "f1_score:  0.8586584236064612\n",
            "AUC:  0.8383829703051536\n"
          ],
          "name": "stdout"
        }
      ]
    },
    {
      "cell_type": "markdown",
      "metadata": {
        "id": "6Zy5hh6JcaB4"
      },
      "source": [
        "# Aplicando Árvore de Decisão"
      ]
    },
    {
      "cell_type": "code",
      "metadata": {
        "id": "ktfG6t5Tcyz5"
      },
      "source": [
        "# Aplicar Árvore de Decisão\n",
        "dt = DecisionTreeClassifier(random_state=42)"
      ],
      "execution_count": null,
      "outputs": []
    },
    {
      "cell_type": "code",
      "metadata": {
        "colab": {
          "base_uri": "https://localhost:8080/"
        },
        "id": "6IptQCfCc_A5",
        "outputId": "aed14cfb-d4a9-43fd-cb6c-e9d00e7d63e3"
      },
      "source": [
        "%%time\n",
        "dt.fit(X_train_n, y_train_n)"
      ],
      "execution_count": null,
      "outputs": [
        {
          "output_type": "stream",
          "text": [
            "CPU times: user 2min 4s, sys: 178 ms, total: 2min 4s\n",
            "Wall time: 2min 4s\n"
          ],
          "name": "stdout"
        },
        {
          "output_type": "execute_result",
          "data": {
            "text/plain": [
              "DecisionTreeClassifier(ccp_alpha=0.0, class_weight=None, criterion='gini',\n",
              "                       max_depth=None, max_features=None, max_leaf_nodes=None,\n",
              "                       min_impurity_decrease=0.0, min_impurity_split=None,\n",
              "                       min_samples_leaf=1, min_samples_split=2,\n",
              "                       min_weight_fraction_leaf=0.0, presort='deprecated',\n",
              "                       random_state=42, splitter='best')"
            ]
          },
          "metadata": {
            "tags": []
          },
          "execution_count": 118
        }
      ]
    },
    {
      "cell_type": "code",
      "metadata": {
        "id": "vyI_Ft2ZgEdW"
      },
      "source": [
        "predictions = dt.predict(X_test_n)"
      ],
      "execution_count": null,
      "outputs": []
    },
    {
      "cell_type": "code",
      "metadata": {
        "id": "IZe8tWINgx2_"
      },
      "source": [
        "# Matriz de confusão\n",
        "data_dt = {'y_Actual':    y_test_n,\n",
        "        'y_Predicted': predictions}\n",
        "\n",
        "df_dt = pd.DataFrame(data_dt, columns=['y_Actual','y_Predicted'])\n",
        "confusion_matrix_dt = pd.crosstab(df_dt['y_Actual'], df_dt['y_Predicted'], rownames=['Actual'], colnames=['Predicted'])"
      ],
      "execution_count": null,
      "outputs": []
    },
    {
      "cell_type": "code",
      "metadata": {
        "colab": {
          "base_uri": "https://localhost:8080/",
          "height": 136
        },
        "id": "QrFzYZM5g2cK",
        "outputId": "3b54ec3d-5f00-462e-bcc4-fea72a131694"
      },
      "source": [
        "confusion_matrix_dt"
      ],
      "execution_count": null,
      "outputs": [
        {
          "output_type": "execute_result",
          "data": {
            "text/html": [
              "<div>\n",
              "<style scoped>\n",
              "    .dataframe tbody tr th:only-of-type {\n",
              "        vertical-align: middle;\n",
              "    }\n",
              "\n",
              "    .dataframe tbody tr th {\n",
              "        vertical-align: top;\n",
              "    }\n",
              "\n",
              "    .dataframe thead th {\n",
              "        text-align: right;\n",
              "    }\n",
              "</style>\n",
              "<table border=\"1\" class=\"dataframe\">\n",
              "  <thead>\n",
              "    <tr style=\"text-align: right;\">\n",
              "      <th>Predicted</th>\n",
              "      <th>0</th>\n",
              "      <th>1</th>\n",
              "    </tr>\n",
              "    <tr>\n",
              "      <th>Actual</th>\n",
              "      <th></th>\n",
              "      <th></th>\n",
              "    </tr>\n",
              "  </thead>\n",
              "  <tbody>\n",
              "    <tr>\n",
              "      <th>0</th>\n",
              "      <td>1905909</td>\n",
              "      <td>1037</td>\n",
              "    </tr>\n",
              "    <tr>\n",
              "      <th>1</th>\n",
              "      <td>526</td>\n",
              "      <td>1905173</td>\n",
              "    </tr>\n",
              "  </tbody>\n",
              "</table>\n",
              "</div>"
            ],
            "text/plain": [
              "Predicted        0        1\n",
              "Actual                     \n",
              "0          1905909     1037\n",
              "1              526  1905173"
            ]
          },
          "metadata": {
            "tags": []
          },
          "execution_count": 121
        }
      ]
    },
    {
      "cell_type": "code",
      "metadata": {
        "colab": {
          "base_uri": "https://localhost:8080/"
        },
        "id": "KSv0yDIfg8GQ",
        "outputId": "91a26f0b-b668-46df-b0a3-8b058bce21bd"
      },
      "source": [
        "print('Porcentagem de acerto para 0: ', 1905909 / (1905909 + 1037))\n",
        "print('Porcentagem de acerto para 1: ', 1905173 / (1905173 + 526))"
      ],
      "execution_count": null,
      "outputs": [
        {
          "output_type": "stream",
          "text": [
            "Porcentagem de acerto para 0:  0.9994561985499327\n",
            "Porcentagem de acerto para 1:  0.99972398579209\n"
          ],
          "name": "stdout"
        }
      ]
    },
    {
      "cell_type": "code",
      "metadata": {
        "colab": {
          "base_uri": "https://localhost:8080/"
        },
        "id": "kQV6xegDhMSZ",
        "outputId": "87fdf45f-7a0e-4e67-89d1-14fc0fe523e5"
      },
      "source": [
        "# Métricas para avaliar o modelo\n",
        "print(\"Acc: \", accuracy_score(y_test_n, predictions))\n",
        "print('Precisão: ', precision_score(y_test_n, predictions))  # Positivos verdadeiros sobre total de positivos. Quanto menor, mais falso positivos contém na predição.\n",
        "print('Recall', recall_score(y_test_n, predictions)) # Número de positivos verdadeiros divididos pelo número de valores positivos nos dados d teste. Quanto menor, mais falso negativos contém na predição\n",
        "print('f1_score: ', f1_score(y_test_n, predictions))\n",
        "print('AUC: ', roc_auc_score(y_test_n, predictions))"
      ],
      "execution_count": null,
      "outputs": [
        {
          "output_type": "stream",
          "text": [
            "Acc:  0.9995900483784879\n",
            "Precisão:  0.9994559885846785\n",
            "Recall 0.99972398579209\n",
            "f1_score:  0.9995899692253934\n",
            "AUC:  0.9995900921710114\n"
          ],
          "name": "stdout"
        }
      ]
    }
  ]
}